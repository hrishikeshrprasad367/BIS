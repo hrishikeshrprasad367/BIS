{
  "nbformat": 4,
  "nbformat_minor": 0,
  "metadata": {
    "colab": {
      "provenance": [],
      "authorship_tag": "ABX9TyOOmonA0iLx9K3X1qcQ0lRp",
      "include_colab_link": true
    },
    "kernelspec": {
      "name": "python3",
      "display_name": "Python 3"
    },
    "language_info": {
      "name": "python"
    }
  },
  "cells": [
    {
      "cell_type": "markdown",
      "metadata": {
        "id": "view-in-github",
        "colab_type": "text"
      },
      "source": [
        "<a href=\"https://colab.research.google.com/github/hrishikeshrprasad367/BIS/blob/main/week3/BISWeek3.ipynb\" target=\"_parent\"><img src=\"https://colab.research.google.com/assets/colab-badge.svg\" alt=\"Open In Colab\"/></a>"
      ]
    },
    {
      "cell_type": "code",
      "execution_count": 1,
      "metadata": {
        "colab": {
          "base_uri": "https://localhost:8080/"
        },
        "id": "-ilghvUgYEcG",
        "outputId": "f5a3aae0-f130-43a3-ee5e-9ba1204bff62"
      },
      "outputs": [
        {
          "output_type": "stream",
          "name": "stdout",
          "text": [
            "Iteration 50/200, Best tour length: 386.43\n",
            "Iteration 100/200, Best tour length: 386.43\n",
            "Iteration 150/200, Best tour length: 386.43\n",
            "Iteration 200/200, Best tour length: 386.43\n",
            "\n",
            "ACO algorithm completed.\n",
            "Best tour found: [4, np.int64(12), np.int64(0), np.int64(16), np.int64(5), np.int64(3), np.int64(13), np.int64(8), np.int64(11), np.int64(7), np.int64(2), np.int64(18), np.int64(9), np.int64(15), np.int64(10), np.int64(14), np.int64(6), np.int64(19), np.int64(1), np.int64(17), 4]\n",
            "Best tour length: 386.4296894765134\n"
          ]
        }
      ],
      "source": [
        "import numpy as np\n",
        "\n",
        "# 1. Define the number of cities\n",
        "num_cities = 20\n",
        "\n",
        "# 2. Generate coordinates for each city\n",
        "# We'll generate random coordinates for this example\n",
        "np.random.seed(42) # for reproducibility\n",
        "city_coordinates = np.random.rand(num_cities, 2) * 100 # Coordinates between 0 and 100\n",
        "# 1. Define ACO parameters\n",
        "num_ants = 50\n",
        "num_iterations = 200\n",
        "pheromone_evaporation_rate = 0.5\n",
        "pheromone_deposit_factor = 1.0\n",
        "\n",
        "# 2. Calculate the distance matrix\n",
        "distance_matrix = np.linalg.norm(city_coordinates[:, np.newaxis, :] - city_coordinates[np.newaxis, :, :], axis=2)\n",
        "\n",
        "# Initialize pheromone trails\n",
        "pheromone_trails = np.ones((num_cities, num_cities)) * 0.1\n",
        "\n",
        "# Store the best tour found\n",
        "best_tour = None\n",
        "best_tour_length = float('inf')\n",
        "\n",
        "for iteration in range(num_iterations):\n",
        "    all_tours = []\n",
        "    all_tour_lengths = []\n",
        "\n",
        "    for ant in range(num_ants):\n",
        "        # 3. Implement ant movement and 4. Tour construction\n",
        "        current_city = np.random.randint(num_cities)\n",
        "        tour = [current_city]\n",
        "        visited_cities = {current_city}\n",
        "\n",
        "        while len(tour) < num_cities:\n",
        "            possible_next_cities = np.array([city for city in range(num_cities) if city not in visited_cities])\n",
        "            if len(possible_next_cities) == 0:\n",
        "                break\n",
        "\n",
        "            # Calculate probabilities\n",
        "            pheromone_values = pheromone_trails[current_city, possible_next_cities]\n",
        "            heuristic_values = 1.0 / (distance_matrix[current_city, possible_next_cities] + 1e-9) # Add a small constant to avoid division by zero\n",
        "            probabilities = (pheromone_values**1.0) * (heuristic_values**5.0) # Alpha and Beta parameters (typically between 1 and 5)\n",
        "            probabilities /= probabilities.sum()\n",
        "\n",
        "            # Select the next city\n",
        "            next_city = np.random.choice(possible_next_cities, p=probabilities)\n",
        "            tour.append(next_city)\n",
        "            visited_cities.add(next_city)\n",
        "            current_city = next_city\n",
        "\n",
        "        # Complete the tour by returning to the starting city\n",
        "        if len(tour) == num_cities:\n",
        "            tour.append(tour[0])\n",
        "            tour_length = sum(distance_matrix[tour[i], tour[i+1]] for i in range(num_cities))\n",
        "            all_tours.append(tour)\n",
        "            all_tour_lengths.append(tour_length)\n",
        "\n",
        "            # Update the best tour found so far\n",
        "            if tour_length < best_tour_length:\n",
        "                best_tour_length = tour_length\n",
        "                best_tour = tour\n",
        "\n",
        "    # 5. Implement pheromone update rule\n",
        "    # Evaporation\n",
        "    pheromone_trails *= (1 - pheromone_evaporation_rate)\n",
        "\n",
        "    # Deposit pheromone\n",
        "    for tour, tour_length in zip(all_tours, all_tour_lengths):\n",
        "        if tour_length > 0: # Avoid division by zero\n",
        "            pheromone_deposit = pheromone_deposit_factor / tour_length\n",
        "            for i in range(num_cities):\n",
        "                pheromone_trails[tour[i], tour[i+1]] += pheromone_deposit\n",
        "            pheromone_trails[tour[num_cities], tour[0]] += pheromone_deposit # Deposit on the edge returning to the start\n",
        "\n",
        "    # Optional: Print progress\n",
        "    if (iteration + 1) % 50 == 0:\n",
        "        print(f\"Iteration {iteration + 1}/{num_iterations}, Best tour length: {best_tour_length:.2f}\")\n",
        "\n",
        "# 7. Keep track of the best tour found so far (already done within the loop)\n",
        "\n",
        "print(\"\\nACO algorithm completed.\")\n",
        "print(\"Best tour found:\", best_tour)\n",
        "print(\"Best tour length:\", best_tour_length)"
      ]
    }
  ]
}