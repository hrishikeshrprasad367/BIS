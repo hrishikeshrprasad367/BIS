{
  "nbformat": 4,
  "nbformat_minor": 0,
  "metadata": {
    "colab": {
      "provenance": [],
      "authorship_tag": "ABX9TyMiVDbxOmcv+i5xGiEI/NLf",
      "include_colab_link": true
    },
    "kernelspec": {
      "name": "python3",
      "display_name": "Python 3"
    },
    "language_info": {
      "name": "python"
    }
  },
  "cells": [
    {
      "cell_type": "markdown",
      "metadata": {
        "id": "view-in-github",
        "colab_type": "text"
      },
      "source": [
        "<a href=\"https://colab.research.google.com/github/hrishikeshrprasad367/BIS/blob/main/week2/BISweek2.ipynb\" target=\"_parent\"><img src=\"https://colab.research.google.com/assets/colab-badge.svg\" alt=\"Open In Colab\"/></a>"
      ]
    },
    {
      "cell_type": "code",
      "execution_count": 1,
      "metadata": {
        "colab": {
          "base_uri": "https://localhost:8080/"
        },
        "id": "dIAlMWxpZkTN",
        "outputId": "07ca0e17-eb44-4d0f-c4b1-48fc4f4cd535"
      },
      "outputs": [
        {
          "output_type": "stream",
          "name": "stdout",
          "text": [
            "Optimal Portfolio Weights: [0.44097412 0.20835572 0.2823928  0.06827736]\n",
            "Best Sharpe Ratio: 1.7756098324447325\n"
          ]
        }
      ],
      "source": [
        "import numpy as np\n",
        "\n",
        "# ---------- Step 1: Define Problem (Portfolio Optimization) ----------\n",
        "# Expected returns for 4 assets (example data)\n",
        "returns = np.array([0.12, 0.18, 0.15, 0.10])\n",
        "\n",
        "# Covariance matrix of returns (risk measure)\n",
        "cov_matrix = np.array([\n",
        "    [0.010, 0.002, 0.001, 0.003],\n",
        "    [0.002, 0.030, 0.002, 0.004],\n",
        "    [0.001, 0.002, 0.020, 0.002],\n",
        "    [0.003, 0.004, 0.002, 0.025]\n",
        "])\n",
        "\n",
        "# Fitness function: Sharpe ratio (maximize return / risk)\n",
        "def fitness(weights):\n",
        "    weights = np.array(weights)\n",
        "    portfolio_return = np.dot(weights, returns)\n",
        "    portfolio_risk = np.sqrt(np.dot(weights.T, np.dot(cov_matrix, weights)))\n",
        "    if portfolio_risk == 0:  # avoid division by zero\n",
        "        return -999\n",
        "    return portfolio_return / portfolio_risk\n",
        "\n",
        "# ---------- Step 2: Initialize PSO Parameters ----------\n",
        "num_particles = 30\n",
        "num_assets = len(returns)\n",
        "iterations = 100\n",
        "\n",
        "w = 0.7      # inertia weight\n",
        "c1 = 1.5     # cognitive coefficient\n",
        "c2 = 1.5     # social coefficient\n",
        "\n",
        "# ---------- Step 3: Initialize Particles ----------\n",
        "positions = np.random.dirichlet(np.ones(num_assets), size=num_particles)  # weights sum=1\n",
        "velocities = np.random.rand(num_particles, num_assets) * 0.1\n",
        "\n",
        "personal_best_positions = positions.copy()\n",
        "personal_best_scores = np.array([fitness(p) for p in positions])\n",
        "\n",
        "global_best_position = personal_best_positions[np.argmax(personal_best_scores)]\n",
        "global_best_score = np.max(personal_best_scores)\n",
        "\n",
        "# ---------- Step 4: Main Loop ----------\n",
        "for _ in range(iterations):\n",
        "    for i in range(num_particles):\n",
        "        # Update velocity\n",
        "        r1, r2 = np.random.rand(num_assets), np.random.rand(num_assets)\n",
        "        velocities[i] = (w * velocities[i]\n",
        "                         + c1 * r1 * (personal_best_positions[i] - positions[i])\n",
        "                         + c2 * r2 * (global_best_position - positions[i]))\n",
        "\n",
        "        # Update position (weights must be valid portfolio)\n",
        "        positions[i] += velocities[i]\n",
        "        positions[i] = np.maximum(positions[i], 0)     # no negative weights\n",
        "        positions[i] /= np.sum(positions[i])           # normalize to sum=1\n",
        "\n",
        "        # Evaluate fitness\n",
        "        score = fitness(positions[i])\n",
        "\n",
        "        # Update personal best\n",
        "        if score > personal_best_scores[i]:\n",
        "            personal_best_scores[i] = score\n",
        "            personal_best_positions[i] = positions[i].copy()\n",
        "\n",
        "        # Update global best\n",
        "        if score > global_best_score:\n",
        "            global_best_score = score\n",
        "            global_best_position = positions[i].copy()\n",
        "\n",
        "# ---------- Step 5: Output Result ----------\n",
        "print(\"Optimal Portfolio Weights:\", global_best_position)\n",
        "print(\"Best Sharpe Ratio:\", global_best_score)"
      ]
    }
  ]
}