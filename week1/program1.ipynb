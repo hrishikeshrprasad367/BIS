import numpy as np

# Prompt user for fitness function
print("Enter the fitness function in terms of x (x scaled between 0 and 1):")
print("Example: x * np.sin(10 * np.pi * x) + 1")
user_func = input("Fitness function f(x) = ")

# Prepare fitness function safely
def fitness(x):
    x_scaled = x
    allowed_names = {"np": np, "x": x_scaled}
    return eval(user_func, {"__builtins__": {}}, allowed_names)

# Parameters
pop_size = 4
generations = 5
mutation_rate = 0.1
crossover_rate = 0.7
chrom_length = 5

# Helper functions
def decode(pop_bin):
    return pop_bin.dot(1 << np.arange(chrom_length)[::-1])

def encode(values):
    return ((values[:, None] & (1 << np.arange(chrom_length)[::-1])) > 0).astype(int)

def print_table(title, population, pop_bin, pop_fit, extra_info=None):
    unique, counts = np.unique(population, return_counts=True)
    total_fit = pop_fit.sum()
    avg_fit = pop_fit.mean()
    max_fit = pop_fit.max()

    print(f"\n=== {title} ===")
    header = ["X", "Binary", "Fitness", "Prob", "%Prob", "Expected", "Actual"]
    if extra_info == "crossover":
        header += ["CrossoverPt", "OffspringBin"]
    if extra_info == "mutation":
        header += ["MutMask", "OffspringBin"]

    print(" | ".join(f"{h:>12}" for h in header))
    print("-" * (14 * len(header)))

    for x, c in zip(unique, counts):
        fit_val = fitness(x)
        prob = fit_val / total_fit if total_fit > 0 else 0
        pct_prob = prob * 100
        expected = prob * pop_size
        bin_value = np.binary_repr(x, width=chrom_length)
        row = [
            f"{x:>12}",
            f"{bin_value:>12}",
            f"{fit_val:>12.4f}",
            f"{prob:>12.4f}",
            f"{pct_prob:>12.2f}",
            f"{expected:>12.2f}",
            f"{c:>12}"
        ]
        if extra_info == "crossover":
            row += ["-".rjust(12), "-".rjust(12)]
        if extra_info == "mutation":
            row += ["-".rjust(12), "-".rjust(12)]
        print(" | ".join(row))

    print(f"Total Fitness: {total_fit:.4f} | Avg Fitness: {avg_fit:.4f} | Max Fitness: {max_fit:.4f}")

# Initialize population
population_bin = np.random.randint(0, 2, (pop_size, chrom_length))
population = decode(population_bin)

for gen in range(generations):
    print(f"\n***** Generation {gen+1} *****")

    fit = fitness(population)
    print_table("Initial Population", population, population_bin, fit)

    total_fit = fit.sum()
    probs = fit / total_fit if total_fit > 0 else np.ones_like(fit) / len(fit)

    selected_indices = np.random.choice(pop_size, size=pop_size, p=probs)
    mating_pool_bin = population_bin[selected_indices]
    mating_pool = decode(mating_pool_bin)
    mating_fit = fitness(mating_pool)

    print_table("Mating Pool (After Selection)", mating_pool, mating_pool_bin, mating_fit)

    # Crossover
    offspring_bin = np.empty_like(mating_pool_bin)
    print("\n-- Crossover Details --")
    print(f"{'Parent1':>12} | {'Parent2':>12} | {'Point':>6} | {'Child1':>12} | {'Child2':>12}")
    print("-" * 70)
    for i in range(0, pop_size, 2):
        parent1 = mating_pool_bin[i]
        parent2 = mating_pool_bin[(i+1) % pop_size]
        if np.random.rand() < crossover_rate:
            point = np.random.randint(1, chrom_length)
            child1 = np.concatenate([parent1[:point], parent2[point:]])
            child2 = np.concatenate([parent2[:point], parent1[point:]])
        else:
            point = -1
            child1, child2 = parent1.copy(), parent2.copy()
        offspring_bin[i] = child1
        if i+1 < pop_size:
            offspring_bin[i+1] = child2
        print(f"{''.join(map(str,parent1)):>12} | {''.join(map(str,parent2)):>12} | {point:6} | {''.join(map(str,child1)):>12} | {''.join(map(str,child2)):>12}")

    # Mutation
    mutation_mask = np.random.rand(pop_size, chrom_length) < mutation_rate
    mutated_bin = np.where(mutation_mask, 1 - offspring_bin, offspring_bin)

    print("\n-- Mutation Details --")
    print(f"{'Parent':>12} | {'Mask':>12} | {'Child':>12}")
    print("-" * 45)
    for i in range(pop_size):
        print(f"{''.join(map(str,offspring_bin[i])):>12} | {''.join(map(lambda b: '1' if b else '0', mutation_mask[i])):>12} | {''.join(map(str,mutated_bin[i])):>12}")

    offspring = decode(mutated_bin)
    offspring_fit = fitness(offspring)
    print_table("Mutation Table (After Mutation)", offspring, mutated_bin, offspring_fit)

    population_bin = mutated_bin
    population = offspring
